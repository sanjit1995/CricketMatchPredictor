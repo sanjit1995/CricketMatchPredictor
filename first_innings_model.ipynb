{
 "cells": [
  {
   "cell_type": "code",
   "execution_count": 11,
   "metadata": {},
   "outputs": [],
   "source": [
    "import pandas as pd\n",
    "import numpy as np\n",
    "import seaborn as sns\n",
    "import matplotlib.pyplot as plt"
   ]
  },
  {
   "cell_type": "code",
   "execution_count": 192,
   "metadata": {},
   "outputs": [],
   "source": [
    "train = pd.read_csv(\"data/first_innings_data.csv\")\n",
    "train = train.drop(\"Unnamed: 0\",axis=1)"
   ]
  },
  {
   "cell_type": "code",
   "execution_count": 195,
   "metadata": {},
   "outputs": [
    {
     "data": {
      "text/plain": [
       "(1717, 17)"
      ]
     },
     "execution_count": 195,
     "metadata": {},
     "output_type": "execute_result"
    }
   ],
   "source": [
    "train.shape"
   ]
  },
  {
   "cell_type": "code",
   "execution_count": 193,
   "metadata": {
    "scrolled": true
   },
   "outputs": [
    {
     "data": {
      "text/html": [
       "<div>\n",
       "<style scoped>\n",
       "    .dataframe tbody tr th:only-of-type {\n",
       "        vertical-align: middle;\n",
       "    }\n",
       "\n",
       "    .dataframe tbody tr th {\n",
       "        vertical-align: top;\n",
       "    }\n",
       "\n",
       "    .dataframe thead th {\n",
       "        text-align: right;\n",
       "    }\n",
       "</style>\n",
       "<table border=\"1\" class=\"dataframe\">\n",
       "  <thead>\n",
       "    <tr style=\"text-align: right;\">\n",
       "      <th></th>\n",
       "      <th>uid</th>\n",
       "      <th>odi_type</th>\n",
       "      <th>team</th>\n",
       "      <th>opposition</th>\n",
       "      <th>toss_won</th>\n",
       "      <th>bat_first_win_prob</th>\n",
       "      <th>is_home</th>\n",
       "      <th>balls_total</th>\n",
       "      <th>stadium_id</th>\n",
       "      <th>runs</th>\n",
       "      <th>run_rate</th>\n",
       "      <th>balls_per_wicket</th>\n",
       "      <th>runs_per_wicket</th>\n",
       "      <th>year</th>\n",
       "      <th>all_out_flag</th>\n",
       "      <th>deviation_from_avg_score</th>\n",
       "      <th>win_percentage</th>\n",
       "    </tr>\n",
       "  </thead>\n",
       "  <tbody>\n",
       "    <tr>\n",
       "      <td>0</td>\n",
       "      <td>3705</td>\n",
       "      <td>daynight</td>\n",
       "      <td>South-Africa</td>\n",
       "      <td>England</td>\n",
       "      <td>1</td>\n",
       "      <td>0.651163</td>\n",
       "      <td>1</td>\n",
       "      <td>300</td>\n",
       "      <td>174</td>\n",
       "      <td>204</td>\n",
       "      <td>4.080000</td>\n",
       "      <td>37.500000</td>\n",
       "      <td>25.500000</td>\n",
       "      <td>2000</td>\n",
       "      <td>0</td>\n",
       "      <td>-31</td>\n",
       "      <td>1</td>\n",
       "    </tr>\n",
       "    <tr>\n",
       "      <td>1</td>\n",
       "      <td>3704</td>\n",
       "      <td>day</td>\n",
       "      <td>South-Africa</td>\n",
       "      <td>England</td>\n",
       "      <td>1</td>\n",
       "      <td>0.419355</td>\n",
       "      <td>1</td>\n",
       "      <td>299</td>\n",
       "      <td>949</td>\n",
       "      <td>184</td>\n",
       "      <td>3.692308</td>\n",
       "      <td>27.181818</td>\n",
       "      <td>16.727273</td>\n",
       "      <td>2000</td>\n",
       "      <td>1</td>\n",
       "      <td>-55</td>\n",
       "      <td>0</td>\n",
       "    </tr>\n",
       "    <tr>\n",
       "      <td>2</td>\n",
       "      <td>3711</td>\n",
       "      <td>daynight</td>\n",
       "      <td>South-Africa</td>\n",
       "      <td>England</td>\n",
       "      <td>0</td>\n",
       "      <td>0.395349</td>\n",
       "      <td>1</td>\n",
       "      <td>270</td>\n",
       "      <td>508</td>\n",
       "      <td>149</td>\n",
       "      <td>3.311111</td>\n",
       "      <td>24.545455</td>\n",
       "      <td>13.545455</td>\n",
       "      <td>2000</td>\n",
       "      <td>1</td>\n",
       "      <td>-87</td>\n",
       "      <td>1</td>\n",
       "    </tr>\n",
       "    <tr>\n",
       "      <td>3</td>\n",
       "      <td>3709</td>\n",
       "      <td>daynight</td>\n",
       "      <td>England</td>\n",
       "      <td>South-Africa</td>\n",
       "      <td>0</td>\n",
       "      <td>0.454545</td>\n",
       "      <td>0</td>\n",
       "      <td>300</td>\n",
       "      <td>931</td>\n",
       "      <td>231</td>\n",
       "      <td>4.620000</td>\n",
       "      <td>42.857143</td>\n",
       "      <td>33.000000</td>\n",
       "      <td>2000</td>\n",
       "      <td>0</td>\n",
       "      <td>6</td>\n",
       "      <td>0</td>\n",
       "    </tr>\n",
       "    <tr>\n",
       "      <td>4</td>\n",
       "      <td>3886</td>\n",
       "      <td>day</td>\n",
       "      <td>West-Indies</td>\n",
       "      <td>England</td>\n",
       "      <td>0</td>\n",
       "      <td>0.428571</td>\n",
       "      <td>0</td>\n",
       "      <td>300</td>\n",
       "      <td>34</td>\n",
       "      <td>195</td>\n",
       "      <td>3.900000</td>\n",
       "      <td>30.000000</td>\n",
       "      <td>19.500000</td>\n",
       "      <td>2000</td>\n",
       "      <td>0</td>\n",
       "      <td>-59</td>\n",
       "      <td>1</td>\n",
       "    </tr>\n",
       "  </tbody>\n",
       "</table>\n",
       "</div>"
      ],
      "text/plain": [
       "    uid  odi_type          team    opposition  toss_won  bat_first_win_prob  \\\n",
       "0  3705  daynight  South-Africa       England         1            0.651163   \n",
       "1  3704       day  South-Africa       England         1            0.419355   \n",
       "2  3711  daynight  South-Africa       England         0            0.395349   \n",
       "3  3709  daynight       England  South-Africa         0            0.454545   \n",
       "4  3886       day   West-Indies       England         0            0.428571   \n",
       "\n",
       "   is_home  balls_total  stadium_id  runs  run_rate  balls_per_wicket  \\\n",
       "0        1          300         174   204  4.080000         37.500000   \n",
       "1        1          299         949   184  3.692308         27.181818   \n",
       "2        1          270         508   149  3.311111         24.545455   \n",
       "3        0          300         931   231  4.620000         42.857143   \n",
       "4        0          300          34   195  3.900000         30.000000   \n",
       "\n",
       "   runs_per_wicket  year  all_out_flag  deviation_from_avg_score  \\\n",
       "0        25.500000  2000             0                       -31   \n",
       "1        16.727273  2000             1                       -55   \n",
       "2        13.545455  2000             1                       -87   \n",
       "3        33.000000  2000             0                         6   \n",
       "4        19.500000  2000             0                       -59   \n",
       "\n",
       "   win_percentage  \n",
       "0               1  \n",
       "1               0  \n",
       "2               1  \n",
       "3               0  \n",
       "4               1  "
      ]
     },
     "execution_count": 193,
     "metadata": {},
     "output_type": "execute_result"
    }
   ],
   "source": [
    "train.head()"
   ]
  },
  {
   "cell_type": "code",
   "execution_count": 178,
   "metadata": {},
   "outputs": [
    {
     "data": {
      "text/plain": [
       "uid                         0\n",
       "odi_type                    0\n",
       "team                        0\n",
       "opposition                  0\n",
       "toss_won                    0\n",
       "bat_first_win_prob          0\n",
       "is_home                     0\n",
       "balls_total                 0\n",
       "stadium_id                  0\n",
       "runs                        0\n",
       "run_rate                    0\n",
       "balls_per_wicket            0\n",
       "runs_per_wicket             0\n",
       "year                        0\n",
       "all_out_flag                0\n",
       "deviation_from_avg_score    0\n",
       "win_percentage              0\n",
       "dtype: int64"
      ]
     },
     "execution_count": 178,
     "metadata": {},
     "output_type": "execute_result"
    }
   ],
   "source": [
    "train.isnull().sum()"
   ]
  },
  {
   "cell_type": "code",
   "execution_count": 22,
   "metadata": {},
   "outputs": [
    {
     "name": "stdout",
     "output_type": "stream",
     "text": [
      "<class 'pandas.core.frame.DataFrame'>\n",
      "RangeIndex: 1717 entries, 0 to 1716\n",
      "Data columns (total 17 columns):\n",
      "uid                         1717 non-null int64\n",
      "odi_type                    1701 non-null object\n",
      "team                        1717 non-null object\n",
      "opposition                  1717 non-null object\n",
      "toss_won                    1717 non-null int64\n",
      "bat_first_win_prob          1717 non-null float64\n",
      "is_home                     1717 non-null int64\n",
      "balls_total                 1717 non-null int64\n",
      "stadium_id                  1717 non-null int64\n",
      "runs                        1717 non-null int64\n",
      "run_rate                    1717 non-null float64\n",
      "balls_per_wicket            1717 non-null float64\n",
      "runs_per_wicket             1717 non-null float64\n",
      "year                        1717 non-null int64\n",
      "all_out_flag                1717 non-null int64\n",
      "deviation_from_avg_score    1717 non-null int64\n",
      "win_percentage              1717 non-null int64\n",
      "dtypes: float64(4), int64(10), object(3)\n",
      "memory usage: 228.2+ KB\n"
     ]
    }
   ],
   "source": [
    "train.info()"
   ]
  },
  {
   "cell_type": "code",
   "execution_count": 21,
   "metadata": {},
   "outputs": [
    {
     "data": {
      "text/plain": [
       "<matplotlib.axes._subplots.AxesSubplot at 0x2330785f748>"
      ]
     },
     "execution_count": 21,
     "metadata": {},
     "output_type": "execute_result"
    },
    {
     "data": {
      "image/png": "[encoded data removed]",
      "text/plain": [
       "<Figure size 1080x576 with 2 Axes>"
      ]
     },
     "metadata": {
      "needs_background": "light"
     },
     "output_type": "display_data"
    }
   ],
   "source": [
    "plt.figure(figsize=(15,8))\n",
    "sns.heatmap(train.corr(),annot=True,fmt='.2g')"
   ]
  },
  {
   "cell_type": "code",
   "execution_count": 179,
   "metadata": {},
   "outputs": [],
   "source": [
    "train['binned_runs'] = pd.cut(train['runs'],bins=[0,200,250,300,1000],\n",
    "                              labels=['less_than_200','200_to_250','250_to_300','more_than_300'])"
   ]
  },
  {
   "cell_type": "code",
   "execution_count": 180,
   "metadata": {},
   "outputs": [],
   "source": [
    "train = pd.get_dummies(data=train,columns=['odi_type','team','opposition','binned_runs'])"
   ]
  },
  {
   "cell_type": "code",
   "execution_count": 57,
   "metadata": {},
   "outputs": [
    {
     "data": {
      "text/html": [
       "<div>\n",
       "<style scoped>\n",
       "    .dataframe tbody tr th:only-of-type {\n",
       "        vertical-align: middle;\n",
       "    }\n",
       "\n",
       "    .dataframe tbody tr th {\n",
       "        vertical-align: top;\n",
       "    }\n",
       "\n",
       "    .dataframe thead th {\n",
       "        text-align: right;\n",
       "    }\n",
       "</style>\n",
       "<table border=\"1\" class=\"dataframe\">\n",
       "  <thead>\n",
       "    <tr style=\"text-align: right;\">\n",
       "      <th></th>\n",
       "      <th>uid</th>\n",
       "      <th>toss_won</th>\n",
       "      <th>bat_first_win_prob</th>\n",
       "      <th>is_home</th>\n",
       "      <th>balls_total</th>\n",
       "      <th>stadium_id</th>\n",
       "      <th>runs</th>\n",
       "      <th>run_rate</th>\n",
       "      <th>balls_per_wicket</th>\n",
       "      <th>runs_per_wicket</th>\n",
       "      <th>...</th>\n",
       "      <th>opposition_India</th>\n",
       "      <th>opposition_New-Zealand</th>\n",
       "      <th>opposition_Pakistan</th>\n",
       "      <th>opposition_South-Africa</th>\n",
       "      <th>opposition_Sri-Lanka</th>\n",
       "      <th>opposition_West-Indies</th>\n",
       "      <th>binned_runs_less_than_200</th>\n",
       "      <th>binned_runs_200_to_250</th>\n",
       "      <th>binned_runs_250_to_300</th>\n",
       "      <th>binned_runs_more_than_300</th>\n",
       "    </tr>\n",
       "  </thead>\n",
       "  <tbody>\n",
       "    <tr>\n",
       "      <td>0</td>\n",
       "      <td>3705</td>\n",
       "      <td>1</td>\n",
       "      <td>0.651163</td>\n",
       "      <td>1</td>\n",
       "      <td>300</td>\n",
       "      <td>174</td>\n",
       "      <td>204</td>\n",
       "      <td>4.080000</td>\n",
       "      <td>37.500000</td>\n",
       "      <td>25.500000</td>\n",
       "      <td>...</td>\n",
       "      <td>0</td>\n",
       "      <td>0</td>\n",
       "      <td>0</td>\n",
       "      <td>0</td>\n",
       "      <td>0</td>\n",
       "      <td>0</td>\n",
       "      <td>0</td>\n",
       "      <td>1</td>\n",
       "      <td>0</td>\n",
       "      <td>0</td>\n",
       "    </tr>\n",
       "    <tr>\n",
       "      <td>1</td>\n",
       "      <td>3704</td>\n",
       "      <td>1</td>\n",
       "      <td>0.419355</td>\n",
       "      <td>1</td>\n",
       "      <td>299</td>\n",
       "      <td>949</td>\n",
       "      <td>184</td>\n",
       "      <td>3.692308</td>\n",
       "      <td>27.181818</td>\n",
       "      <td>16.727273</td>\n",
       "      <td>...</td>\n",
       "      <td>0</td>\n",
       "      <td>0</td>\n",
       "      <td>0</td>\n",
       "      <td>0</td>\n",
       "      <td>0</td>\n",
       "      <td>0</td>\n",
       "      <td>1</td>\n",
       "      <td>0</td>\n",
       "      <td>0</td>\n",
       "      <td>0</td>\n",
       "    </tr>\n",
       "    <tr>\n",
       "      <td>2</td>\n",
       "      <td>3711</td>\n",
       "      <td>0</td>\n",
       "      <td>0.395349</td>\n",
       "      <td>1</td>\n",
       "      <td>270</td>\n",
       "      <td>508</td>\n",
       "      <td>149</td>\n",
       "      <td>3.311111</td>\n",
       "      <td>24.545455</td>\n",
       "      <td>13.545455</td>\n",
       "      <td>...</td>\n",
       "      <td>0</td>\n",
       "      <td>0</td>\n",
       "      <td>0</td>\n",
       "      <td>0</td>\n",
       "      <td>0</td>\n",
       "      <td>0</td>\n",
       "      <td>1</td>\n",
       "      <td>0</td>\n",
       "      <td>0</td>\n",
       "      <td>0</td>\n",
       "    </tr>\n",
       "    <tr>\n",
       "      <td>3</td>\n",
       "      <td>3709</td>\n",
       "      <td>0</td>\n",
       "      <td>0.454545</td>\n",
       "      <td>0</td>\n",
       "      <td>300</td>\n",
       "      <td>931</td>\n",
       "      <td>231</td>\n",
       "      <td>4.620000</td>\n",
       "      <td>42.857143</td>\n",
       "      <td>33.000000</td>\n",
       "      <td>...</td>\n",
       "      <td>0</td>\n",
       "      <td>0</td>\n",
       "      <td>0</td>\n",
       "      <td>1</td>\n",
       "      <td>0</td>\n",
       "      <td>0</td>\n",
       "      <td>0</td>\n",
       "      <td>1</td>\n",
       "      <td>0</td>\n",
       "      <td>0</td>\n",
       "    </tr>\n",
       "    <tr>\n",
       "      <td>4</td>\n",
       "      <td>3886</td>\n",
       "      <td>0</td>\n",
       "      <td>0.428571</td>\n",
       "      <td>0</td>\n",
       "      <td>300</td>\n",
       "      <td>34</td>\n",
       "      <td>195</td>\n",
       "      <td>3.900000</td>\n",
       "      <td>30.000000</td>\n",
       "      <td>19.500000</td>\n",
       "      <td>...</td>\n",
       "      <td>0</td>\n",
       "      <td>0</td>\n",
       "      <td>0</td>\n",
       "      <td>0</td>\n",
       "      <td>0</td>\n",
       "      <td>0</td>\n",
       "      <td>1</td>\n",
       "      <td>0</td>\n",
       "      <td>0</td>\n",
       "      <td>0</td>\n",
       "    </tr>\n",
       "  </tbody>\n",
       "</table>\n",
       "<p>5 rows × 39 columns</p>\n",
       "</div>"
      ],
      "text/plain": [
       "    uid  toss_won  bat_first_win_prob  is_home  balls_total  stadium_id  runs  \\\n",
       "0  3705         1            0.651163        1          300         174   204   \n",
       "1  3704         1            0.419355        1          299         949   184   \n",
       "2  3711         0            0.395349        1          270         508   149   \n",
       "3  3709         0            0.454545        0          300         931   231   \n",
       "4  3886         0            0.428571        0          300          34   195   \n",
       "\n",
       "   run_rate  balls_per_wicket  runs_per_wicket  ...  opposition_India  \\\n",
       "0  4.080000         37.500000        25.500000  ...                 0   \n",
       "1  3.692308         27.181818        16.727273  ...                 0   \n",
       "2  3.311111         24.545455        13.545455  ...                 0   \n",
       "3  4.620000         42.857143        33.000000  ...                 0   \n",
       "4  3.900000         30.000000        19.500000  ...                 0   \n",
       "\n",
       "   opposition_New-Zealand  opposition_Pakistan  opposition_South-Africa  \\\n",
       "0                       0                    0                        0   \n",
       "1                       0                    0                        0   \n",
       "2                       0                    0                        0   \n",
       "3                       0                    0                        1   \n",
       "4                       0                    0                        0   \n",
       "\n",
       "   opposition_Sri-Lanka  opposition_West-Indies  binned_runs_less_than_200  \\\n",
       "0                     0                       0                          0   \n",
       "1                     0                       0                          1   \n",
       "2                     0                       0                          1   \n",
       "3                     0                       0                          0   \n",
       "4                     0                       0                          1   \n",
       "\n",
       "   binned_runs_200_to_250  binned_runs_250_to_300  binned_runs_more_than_300  \n",
       "0                       1                       0                          0  \n",
       "1                       0                       0                          0  \n",
       "2                       0                       0                          0  \n",
       "3                       1                       0                          0  \n",
       "4                       0                       0                          0  \n",
       "\n",
       "[5 rows x 39 columns]"
      ]
     },
     "execution_count": 57,
     "metadata": {},
     "output_type": "execute_result"
    }
   ],
   "source": [
    "train.head()"
   ]
  },
  {
   "cell_type": "code",
   "execution_count": 58,
   "metadata": {},
   "outputs": [
    {
     "data": {
      "text/plain": [
       "Index(['uid', 'toss_won', 'bat_first_win_prob', 'is_home', 'balls_total',\n",
       "       'stadium_id', 'runs', 'run_rate', 'balls_per_wicket', 'runs_per_wicket',\n",
       "       'year', 'all_out_flag', 'deviation_from_avg_score', 'win_percentage',\n",
       "       'odi_type_day', 'odi_type_daynight', 'odi_type_night', 'team_Australia',\n",
       "       'team_Bangladesh', 'team_England', 'team_India', 'team_New-Zealand',\n",
       "       'team_Pakistan', 'team_South-Africa', 'team_Sri-Lanka',\n",
       "       'team_West-Indies', 'opposition_Australia', 'opposition_Bangladesh',\n",
       "       'opposition_England', 'opposition_India', 'opposition_New-Zealand',\n",
       "       'opposition_Pakistan', 'opposition_South-Africa',\n",
       "       'opposition_Sri-Lanka', 'opposition_West-Indies',\n",
       "       'binned_runs_less_than_200', 'binned_runs_200_to_250',\n",
       "       'binned_runs_250_to_300', 'binned_runs_more_than_300'],\n",
       "      dtype='object')"
      ]
     },
     "execution_count": 58,
     "metadata": {},
     "output_type": "execute_result"
    }
   ],
   "source": [
    "train.columns"
   ]
  },
  {
   "cell_type": "code",
   "execution_count": 181,
   "metadata": {},
   "outputs": [],
   "source": [
    "train = train.drop(['uid','stadium_id','runs','year'],axis=1)"
   ]
  },
  {
   "cell_type": "code",
   "execution_count": 182,
   "metadata": {},
   "outputs": [],
   "source": [
    "x_train = train.drop(['win_percentage'],axis=1)\n",
    "y_train = train['win_percentage']"
   ]
  },
  {
   "cell_type": "code",
   "execution_count": 96,
   "metadata": {},
   "outputs": [
    {
     "data": {
      "text/plain": [
       "0       1\n",
       "1       0\n",
       "2       1\n",
       "3       0\n",
       "4       1\n",
       "       ..\n",
       "1712    1\n",
       "1713    0\n",
       "1714    1\n",
       "1715    0\n",
       "1716    1\n",
       "Name: win_percentage, Length: 1717, dtype: int64"
      ]
     },
     "execution_count": 96,
     "metadata": {},
     "output_type": "execute_result"
    }
   ],
   "source": [
    "y_train"
   ]
  },
  {
   "cell_type": "code",
   "execution_count": 184,
   "metadata": {},
   "outputs": [
    {
     "data": {
      "text/plain": [
       "((1717, 34), (1717,))"
      ]
     },
     "execution_count": 184,
     "metadata": {},
     "output_type": "execute_result"
    }
   ],
   "source": [
    "x_train.shape, y_train.shape"
   ]
  },
  {
   "cell_type": "code",
   "execution_count": 183,
   "metadata": {},
   "outputs": [
    {
     "data": {
      "text/plain": [
       "LogisticRegression(C=1.0, class_weight=None, dual=False, fit_intercept=True,\n",
       "                   intercept_scaling=1, l1_ratio=None, max_iter=3000,\n",
       "                   multi_class='ovr', n_jobs=None, penalty='l2',\n",
       "                   random_state=None, solver='lbfgs', tol=0.0001, verbose=0,\n",
       "                   warm_start=False)"
      ]
     },
     "execution_count": 183,
     "metadata": {},
     "output_type": "execute_result"
    }
   ],
   "source": [
    "from sklearn.linear_model import LogisticRegression\n",
    "model = LogisticRegression(solver='lbfgs',max_iter=3000,multi_class='ovr')\n",
    "model.fit(x_train, y_train)"
   ]
  },
  {
   "cell_type": "code",
   "execution_count": 70,
   "metadata": {},
   "outputs": [
    {
     "data": {
      "text/plain": [
       "Index(['toss_won', 'bat_first_win_prob', 'is_home', 'balls_total', 'run_rate',\n",
       "       'balls_per_wicket', 'runs_per_wicket', 'all_out_flag',\n",
       "       'deviation_from_avg_score', 'odi_type_day', 'odi_type_daynight',\n",
       "       'odi_type_night', 'team_Australia', 'team_Bangladesh', 'team_England',\n",
       "       'team_India', 'team_New-Zealand', 'team_Pakistan', 'team_South-Africa',\n",
       "       'team_Sri-Lanka', 'team_West-Indies', 'opposition_Australia',\n",
       "       'opposition_Bangladesh', 'opposition_England', 'opposition_India',\n",
       "       'opposition_New-Zealand', 'opposition_Pakistan',\n",
       "       'opposition_South-Africa', 'opposition_Sri-Lanka',\n",
       "       'opposition_West-Indies', 'binned_runs_less_than_200',\n",
       "       'binned_runs_200_to_250', 'binned_runs_250_to_300',\n",
       "       'binned_runs_more_than_300'],\n",
       "      dtype='object')"
      ]
     },
     "execution_count": 70,
     "metadata": {},
     "output_type": "execute_result"
    }
   ],
   "source": [
    "x_train.columns"
   ]
  },
  {
   "cell_type": "code",
   "execution_count": 185,
   "metadata": {},
   "outputs": [],
   "source": [
    "test = pd.DataFrame(columns=x_train.columns)\n",
    "test.at[0,'toss_won'] = 1\n",
    "test.at[0,'bat_first_win_prob'] = 0.5\n",
    "test.at[0,'is_home'] = 0\n",
    "test.at[0,'balls_total'] = 300\n",
    "test.at[0,'run_rate'] = 6.04\n",
    "test.at[0,'balls_per_wicket'] = 50\n",
    "test.at[0,'runs_per_wicket'] = 50.33\n",
    "test.at[0,'all_out_flag'] = 0\n",
    "test.at[0,'deviation_from_avg_score'] = 11\n",
    "test.at[0,'odi_type_day'] = 0\n",
    "test.at[0,'odi_type_daynight'] = 1\n",
    "test.at[0,'odi_type_night'] = 0\n",
    "test.at[0,'team_Australia'] = 0\n",
    "test.at[0,'team_Bangladesh'] = 0\n",
    "test.at[0,'team_England'] = 0\n",
    "test.at[0,'team_India'] = 1\n",
    "test.at[0,'team_New-Zealand'] = 0\n",
    "test.at[0,'team_Pakistan'] = 0\n",
    "test.at[0,'team_South-Africa'] = 0\n",
    "test.at[0,'team_Sri-Lanka'] = 0\n",
    "test.at[0,'team_West-Indies'] = 0\n",
    "test.at[0,'opposition_Australia'] = 1\n",
    "test.at[0,'opposition_Bangladesh'] = 0\n",
    "test.at[0,'opposition_England'] = 0\n",
    "test.at[0,'opposition_India'] = 0\n",
    "test.at[0,'opposition_New-Zealand'] = 0\n",
    "test.at[0,'opposition_Pakistan'] = 0\n",
    "test.at[0,'opposition_South-Africa'] = 0\n",
    "test.at[0,'opposition_Sri-Lanka'] = 0\n",
    "test.at[0,'opposition_West-Indies'] = 0\n",
    "test.at[0,'binned_runs_less_than_200'] = 0\n",
    "test.at[0,'binned_runs_200_to_250'] = 0\n",
    "test.at[0,'binned_runs_250_to_300'] = 0\n",
    "test.at[0,'binned_runs_more_than_300'] = 1"
   ]
  },
  {
   "cell_type": "code",
   "execution_count": 88,
   "metadata": {},
   "outputs": [
    {
     "data": {
      "text/plain": [
       "(1, 34)"
      ]
     },
     "execution_count": 88,
     "metadata": {},
     "output_type": "execute_result"
    }
   ],
   "source": [
    "test.shape"
   ]
  },
  {
   "cell_type": "code",
   "execution_count": 186,
   "metadata": {},
   "outputs": [],
   "source": [
    "y = model.predict_proba(test)"
   ]
  },
  {
   "cell_type": "code",
   "execution_count": 187,
   "metadata": {},
   "outputs": [
    {
     "data": {
      "text/plain": [
       "array([[0.56047264, 0.43952736]])"
      ]
     },
     "execution_count": 187,
     "metadata": {},
     "output_type": "execute_result"
    }
   ],
   "source": [
    "y"
   ]
  },
  {
   "cell_type": "code",
   "execution_count": 188,
   "metadata": {},
   "outputs": [],
   "source": [
    "import pickle\n",
    "pickle.dump(model,open('models/first_innings_predictor.pkl','wb'))"
   ]
  }
 ],
 "metadata": {
  "kernelspec": {
   "display_name": "Python 3",
   "language": "python",
   "name": "python3"
  },
  "language_info": {
   "codemirror_mode": {
    "name": "ipython",
    "version": 3
   },
   "file_extension": ".py",
   "mimetype": "text/x-python",
   "name": "python",
   "nbconvert_exporter": "python",
   "pygments_lexer": "ipython3",
   "version": "3.7.4"
  }
 },
 "nbformat": 4,
 "nbformat_minor": 2
}
